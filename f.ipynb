{
 "cells": [
  {
   "cell_type": "code",
   "execution_count": 1,
   "id": "c9e35f5d",
   "metadata": {},
   "outputs": [
    {
     "name": "stdout",
     "output_type": "stream",
     "text": [
      "2025-04-24 02:03:42.293743\n"
     ]
    }
   ],
   "source": [
    "from datetime import datetime\n",
    "x = datetime.now()\n",
    "print(x)"
   ]
  },
  {
   "cell_type": "code",
   "execution_count": 3,
   "id": "22f7be1b",
   "metadata": {},
   "outputs": [
    {
     "name": "stdout",
     "output_type": "stream",
     "text": [
      "2025\n",
      "2025\n"
     ]
    }
   ],
   "source": [
    "from datetime import datetime\n",
    "x = datetime.now()\n",
    "print(x.strftime(\"%Y\"))\n",
    "print(x.year)"
   ]
  },
  {
   "cell_type": "code",
   "execution_count": 4,
   "id": "b11a5e3b",
   "metadata": {},
   "outputs": [
    {
     "name": "stdout",
     "output_type": "stream",
     "text": [
      "Tuesday\n",
      "Tue\n",
      "February\n",
      "Feb\n"
     ]
    }
   ],
   "source": [
    "from datetime import datetime\n",
    "x = datetime(2007, 2, 6)\n",
    "print(x.strftime(\"%A\"))\n",
    "print(x.strftime(\"%a\"))\n",
    "print(x.strftime(\"%B\"))\n",
    "print(x.strftime(\"%b\"))"
   ]
  },
  {
   "cell_type": "code",
   "execution_count": 6,
   "id": "f6ab3a11",
   "metadata": {},
   "outputs": [
    {
     "name": "stdout",
     "output_type": "stream",
     "text": [
      "2025-04-23 02:13:24.231267\n"
     ]
    }
   ],
   "source": [
    "from datetime import datetime\n",
    "from datetime import timedelta\n",
    "x = datetime.now()\n",
    "y = x - timedelta(days=1)\n",
    "print(y)"
   ]
  },
  {
   "cell_type": "code",
   "execution_count": 3,
   "id": "7756ec75",
   "metadata": {},
   "outputs": [
    {
     "name": "stdout",
     "output_type": "stream",
     "text": [
      "0\n",
      "2\n",
      "4\n",
      "6\n",
      "8\n"
     ]
    }
   ],
   "source": [
    "def generators(n):\n",
    "    for i in range(n):\n",
    "        yield i        \n",
    "n = int(input())\n",
    "x = generators(n)\n",
    "for i in x:\n",
    "    if i % 2 == 0:\n",
    "        print(i)\n"
   ]
  },
  {
   "cell_type": "code",
   "execution_count": 5,
   "id": "b5eeb67f",
   "metadata": {},
   "outputs": [
    {
     "name": "stdout",
     "output_type": "stream",
     "text": [
      "0\n",
      "2\n",
      "4\n",
      "6\n",
      "8\n",
      "10\n",
      "12\n",
      "14\n",
      "16\n",
      "18\n"
     ]
    }
   ],
   "source": [
    "def generator(n):\n",
    "    for i in range(n):\n",
    "        yield i\n",
    "n = int(input())\n",
    "x = generator(n)\n",
    "for i in x:\n",
    "    print(i*2)"
   ]
  },
  {
   "cell_type": "code",
   "execution_count": 6,
   "id": "fe3f0134",
   "metadata": {},
   "outputs": [
    {
     "name": "stdout",
     "output_type": "stream",
     "text": [
      "0\n",
      "1\n",
      "4\n",
      "9\n",
      "16\n",
      "25\n",
      "36\n",
      "49\n",
      "64\n",
      "81\n"
     ]
    }
   ],
   "source": [
    "def generator(n):\n",
    "    for i in range(n):\n",
    "        yield i\n",
    "n = int(input())\n",
    "x = generator(n)\n",
    "for i in x:\n",
    "    print(i**2)\n"
   ]
  }
 ],
 "metadata": {
  "kernelspec": {
   "display_name": "base",
   "language": "python",
   "name": "python3"
  },
  "language_info": {
   "codemirror_mode": {
    "name": "ipython",
    "version": 3
   },
   "file_extension": ".py",
   "mimetype": "text/x-python",
   "name": "python",
   "nbconvert_exporter": "python",
   "pygments_lexer": "ipython3",
   "version": "3.12.7"
  }
 },
 "nbformat": 4,
 "nbformat_minor": 5
}
