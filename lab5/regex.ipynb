{
 "cells": [
  {
   "cell_type": "code",
   "execution_count": 19,
   "metadata": {},
   "outputs": [
    {
     "name": "stdout",
     "output_type": "stream",
     "text": [
      "Task 1\n",
      "Система для инфузии Vogt Medical = ['a']\n",
      "Naturella прокладки Классик макси №8 = ['a', 'a']\n",
      "Carefree салфетки Алоэвоздухопроницаемые №20 = ['a']\n",
      "Clear шампунь Актив спорт 2в1мужской  400 мл = ['a']\n"
     ]
    }
   ],
   "source": [
    "import re\n",
    "\n",
    "with open(\"row.txt\", 'r', encoding = \"utf-8\") as file:\n",
    "    data = file.read()\n",
    "print(\"Task 1\")\n",
    "\n",
    "pattern = r\"ab*\"\n",
    "\n",
    "for match in data.split('\\n'):\n",
    "    matches = re.findall(pattern, match)\n",
    "    if matches:\n",
    "        print(f'{match} = {matches}')"
   ]
  },
  {
   "cell_type": "code",
   "execution_count": 42,
   "metadata": {},
   "outputs": [
    {
     "name": "stdout",
     "output_type": "stream",
     "text": [
      "task 2\n",
      "абб = ['абб']\n",
      "вчпыаббб = ['аббб']\n"
     ]
    }
   ],
   "source": [
    "import re\n",
    "\n",
    "with open(\"row.txt\", 'r', encoding = \"utf-8\") as file:\n",
    "    data = file.read()\n",
    "print(\"task 2\")\n",
    "pattern = r'аб{2,3}'\n",
    "for match in data.split('\\n'):\n",
    "    matches = re.findall(pattern, match)\n",
    "    if matches:\n",
    "        print(f'{match} = {matches}')\n"
   ]
  },
  {
   "cell_type": "code",
   "execution_count": 36,
   "metadata": {},
   "outputs": [
    {
     "name": "stdout",
     "output_type": "stream",
     "text": [
      "task 3\n"
     ]
    }
   ],
   "source": [
    "import re\n",
    "with open(\"row.txt\", 'r', encoding = \"utf-8\") as f:\n",
    "    data = f.read()\n",
    "print(\"task 3\")\n",
    "pattern = r'^[a-z]+_[a-z]+$'\n",
    "for match in data.split('\\n'):\n",
    "    matches = re.findall(pattern, match)\n",
    "    if matches:\n",
    "        print(f'{match} = {matches}')\n"
   ]
  },
  {
   "cell_type": "code",
   "execution_count": 48,
   "metadata": {},
   "outputs": [
    {
     "name": "stdout",
     "output_type": "stream",
     "text": [
      "task 4\n",
      "Шприц 2 мл, 3-х комп. (Bioject) = ['Bioject']\n",
      "Система для инфузии Vogt Medical = ['Vogt', 'Medical']\n",
      "Naturella прокладки Классик макси №8 = ['Naturella']\n",
      "Carefree салфетки Алоэвоздухопроницаемые №20 = ['Carefree']\n",
      "Pro Series Шампунь яркий цвет 500мл = ['Pro', 'Series']\n",
      "Pro Series бальзам-ополаскивательдля длител ухода за окрашеннымиволосами Яркий цвет 500мл = ['Pro', 'Series']\n",
      "Clear шампунь Актив спорт 2в1мужской  400 мл = ['Clear']\n",
      "Bio World (HYDRO THERAPY)Мицеллярная вода 5в1, 445мл = ['Bio', 'World']\n",
      "Bio World (HYDRO THERAPY) Гель-муссдля умывания с гиалуроновойкислотой, 250мл = ['Bio', 'World']\n"
     ]
    }
   ],
   "source": [
    "import re\n",
    "with open(\"row.txt\", 'r', encoding = \"utf-8\") as f:\n",
    "    data = f.read()\n",
    "print(\"task 4\")\n",
    "pattern = \"[A-Z][a-z]+\"\n",
    "for match in data.split('\\n'):\n",
    "    matches = re.findall(pattern, match)\n",
    "    if matches:\n",
    "        print(f'{match} = {matches}')\n"
   ]
  },
  {
   "cell_type": "code",
   "execution_count": 1,
   "metadata": {},
   "outputs": [
    {
     "name": "stdout",
     "output_type": "stream",
     "text": [
      "task 5\n"
     ]
    }
   ],
   "source": [
    "import re\n",
    "\n",
    "with open(\"row.txt\", 'r', encoding=\"utf-8\") as file:\n",
    "    data = file.read()\n",
    "\n",
    "print(\"task 5\")\n",
    "pattern = r'a+.b'\n",
    "\n",
    "for match in data.split('\\n'):\n",
    "    matches = re.findall(pattern, match)\n",
    "    if matches:\n",
    "        print(f'{match} = {matches}')\n"
   ]
  },
  {
   "cell_type": "code",
   "execution_count": null,
   "metadata": {},
   "outputs": [
    {
     "name": "stdout",
     "output_type": "stream",
     "text": [
      "Task 6\n",
      "ДУБЛИКАТ \n",
      "абб\n",
      "фпбб\n",
      "вчпыаббб\n",
      "Филиал ТОО EUROPHARMA Астана\n",
      "БИН 080841000761\n",
      "НДС Серия 58001\n",
      " № 0014377\n",
      "Касса 300-189\n",
      "Смена 10\n",
      "Порядковый номер чека №64\n",
      "Чек №2331180266\n",
      "Кассир Аптека 17-1\n",
      "ПРОДАЖА\n",
      "1.\n",
      "Натрия хлорид 0,9%, 200 мл, фл\n",
      "2,000 x 154,00\n",
      "308,00\n",
      "Стоимость\n",
      "308,00\n",
      "2.\n",
      "Борный спирт 3%, 20 мл, фл.\n",
      "1,000 x 51,00\n",
      "51,00\n",
      "Стоимость\n",
      "51,00\n",
      "3.\n",
      "Шприц 2 мл, 3-х комп. (Bioject)\n",
      "2,000 x 16,00\n",
      "32,00\n",
      "Стоимость\n",
      "32,00\n",
      "4.\n",
      "Система для инфузии Vogt Medical\n",
      "2,000 x 60,00\n",
      "120,00\n",
      "Стоимость\n",
      "120,00\n",
      "5.\n",
      "Naturella прокладки Классик макси №8\n",
      "1,000 x 310,00\n",
      "310,00\n",
      "Стоимость\n",
      "310,00\n",
      "6.\n",
      "AURA Ватные диски №150\n",
      "1,000 x 461,00\n",
      "461,00\n",
      "Стоимость\n",
      "461,00\n",
      "7.\n",
      "Чистая линия скраб мягкий 50 мл\n",
      "1,000 x 381,00\n",
      "381,00\n",
      "Стоимость\n",
      "381,00\n",
      "8.\n",
      "Чистая линия  скраб очищающийабрикос 50 мл\n",
      "1,000 x 386,00\n",
      "386,00\n",
      "Стоимость\n",
      "386,00\n",
      "9.\n",
      "Чистая линия скраб мягкий 50 мл\n",
      "1,000 x 381,00\n",
      "381,00\n",
      "Стоимость\n",
      "381,00\n",
      "10.\n",
      "Carefree салфетки Алоэвоздухопроницаемые №20\n",
      "1,000 x 414,00\n",
      "414,00\n",
      "Стоимость\n",
      "414,00\n",
      "11.\n",
      "Pro Series Шампунь яркий цвет 500мл\n",
      "1,000 x 841,00\n",
      "841,00\n",
      "Стоимость\n",
      "841,00\n",
      "12.\n",
      "Pro Series бальзам-ополаскивательдля длител ухода за окрашеннымиволосами Яркий цвет 500мл\n",
      "1,000 x 841,00\n",
      "841,00\n",
      "Стоимость\n",
      "841,00\n",
      "13.\n",
      "Clear шампунь Актив спорт 2в1мужской  400 мл\n",
      "1,000 x 1 200,00\n",
      "1 200,00\n",
      "Стоимость\n",
      "1 200,00\n",
      "14.\n",
      "Bio World (HYDRO THERAPY)Мицеллярная вода 5в1, 445мл\n",
      "1,000 x 1 152,00\n",
      "1 152,00\n",
      "Стоимость\n",
      "1 152,00\n",
      "15.\n",
      "Bio World (HYDRO THERAPY) Гель-муссдля умывания с гиалуроновойкислотой, 250мл\n",
      "1,000 x 1 152,00\n",
      "1 152,00\n",
      "Стоимость\n",
      "1 152,00\n",
      "16.\n",
      "[RX]-Натрия хлорид 0,9%, 100 мл, фл.\n",
      "1,000 x 168,00\n",
      "168,00\n",
      "Стоимость\n",
      "168,00\n",
      "17.\n",
      "[RX]-Дисоль р-р 400 мл, фл.\n",
      "1,000 x 163,00\n",
      "163,00\n",
      "Стоимость\n",
      "163,00\n",
      "18.\n",
      "Тагансорбент с иономи серебра №30,пор.\n",
      "1,000 x 1 526,00\n",
      "1 526,00\n",
      "Стоимость\n",
      "1 526,00\n",
      "19.\n",
      "[RX]-Церукал 2%, 2 мл, №10, амп.\n",
      "2,000 x 396,00\n",
      "792,00\n",
      "Стоимость\n",
      "792,00\n",
      "20.\n",
      "[RX]-Андазол 200 мг, №40, табл.\n",
      "1,000 x 7 330,00\n",
      "7 330,00\n",
      "Стоимость\n",
      "7 330,00\n",
      "Банковская карта:\n",
      "18 009,00\n",
      "ИТОГО:\n",
      "18 009,00\n",
      "в т.ч. НДС 12%:\n",
      "0,00\n",
      "Фискальный признак:\n",
      "2331180266\n",
      "Время: 18.04.2019 11:13:58\n",
      "г. Нур-султан,Казахстан, Мангилик Ел,19, нп-5\n",
      "Оператор фискальных данных: АО\"Казахтелеком\"Для проверки чека зайдите на сайт:consumer.oofd.kz\n",
      "ФИСКАЛЬНЫЙ ЧЕК\n",
      "ФП\n",
      "ИНК ОФД: 311559\n",
      "Код ККМ КГД (РНМ): 620300145316\n",
      "ЗНМ: SWK00034961\n",
      "WEBKASSA.KZ\n"
     ]
    }
   ],
   "source": [
    "import re \n",
    "with open(\"row.txt\",'r', encoding = \"utf-8\" ) as f:\n",
    "    data = f.read()\n",
    "print(\"Task 6\")\n",
    "matches = re.sub(\" ,.\", \":\", data)\n",
    "print(matches)"
   ]
  },
  {
   "cell_type": "code",
   "execution_count": null,
   "metadata": {},
   "outputs": [
    {
     "name": "stdout",
     "output_type": "stream",
     "text": [
      "task 7\n",
      "abbbc , a , abb, ab, bababa\n",
      "\n",
      "ab_aabababbaba, ab__adddb ad d ssajmsam,sm,asm,ams,masmams,ams,msmsa_ a_a\n",
      "\n",
      "basbs____jdfe\n",
      "hgedgwg_Ahedb\n",
      "ab_aabababbabaABcdcbdb\n",
      "ABCDEFGHabcdedfgh\n",
      "BCAajajjajaaA\n",
      "abbb \n",
      "abbccbcbc \n",
      "aaabcbcbcabb \n",
      "aabb\n",
      "AlmatyILoveYou\n",
      "b\n",
      "My name is Karshyga, I like ice-cream and banana.\n",
      "\n"
     ]
    }
   ],
   "source": [
    "import re\n",
    "with open(\"row.txt\") as f:\n",
    "    data = f.read()\n",
    "print(\"task 7\")\n",
    "matches = re.sub(\"snake_case\", \"camelCase\", data)\n",
    "print(matches)"
   ]
  }
 ],
 "metadata": {
  "kernelspec": {
   "display_name": "Python 3",
   "language": "python",
   "name": "python3"
  },
  "language_info": {
   "codemirror_mode": {
    "name": "ipython",
    "version": 3
   },
   "file_extension": ".py",
   "mimetype": "text/x-python",
   "name": "python",
   "nbconvert_exporter": "python",
   "pygments_lexer": "ipython3",
   "version": "3.12.2"
  }
 },
 "nbformat": 4,
 "nbformat_minor": 2
}
