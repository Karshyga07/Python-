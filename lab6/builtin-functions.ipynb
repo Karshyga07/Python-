{
 "cells": [
  {
   "cell_type": "code",
   "execution_count": 16,
   "metadata": {},
   "outputs": [
    {
     "name": "stdout",
     "output_type": "stream",
     "text": [
      "480\n"
     ]
    }
   ],
   "source": [
    "size_list=input(\"size list:\")\n",
    "my_list=list(map(int,size_list.split()))\n",
    "multiplay=1\n",
    "for i in my_list:\n",
    "    multiplay*=i\n",
    "print(multiplay)"
   ]
  },
  {
   "cell_type": "code",
   "execution_count": 20,
   "metadata": {},
   "outputs": [
    {
     "name": "stdout",
     "output_type": "stream",
     "text": [
      "Uppercase:  12\n",
      "Lowercase:  12\n"
     ]
    }
   ],
   "source": [
    "a = str(input(\"Word: \"))\n",
    "s = 0\n",
    "d = 0\n",
    "for i in a:\n",
    "    if i.isupper:\n",
    "        s += 1\n",
    "print(\"Uppercase: \", s)\n",
    "for i in a:\n",
    "    if i.islower:\n",
    "        d += 1\n",
    "print(\"Lowercase: \", d)\n"
   ]
  },
  {
   "cell_type": "code",
   "execution_count": 24,
   "metadata": {},
   "outputs": [
    {
     "name": "stdout",
     "output_type": "stream",
     "text": [
      "Palindrome\n"
     ]
    }
   ],
   "source": [
    "a = str(input(\"Word: \")) \n",
    "s = bool(False)   \n",
    "for i in a:\n",
    "    if i == i[::-1]:\n",
    "        s = True\n",
    "if s == True:\n",
    "    print(\"Palindrome\")\n",
    "else:\n",
    "    print(\"Not Palindrome\")"
   ]
  },
  {
   "cell_type": "code",
   "execution_count": null,
   "metadata": {},
   "outputs": [],
   "source": [
    "a = input(\"Sample Input: \")\n"
   ]
  }
 ],
 "metadata": {
  "kernelspec": {
   "display_name": "Python 3",
   "language": "python",
   "name": "python3"
  },
  "language_info": {
   "codemirror_mode": {
    "name": "ipython",
    "version": 3
   },
   "file_extension": ".py",
   "mimetype": "text/x-python",
   "name": "python",
   "nbconvert_exporter": "python",
   "pygments_lexer": "ipython3",
   "version": "3.12.2"
  }
 },
 "nbformat": 4,
 "nbformat_minor": 2
}
