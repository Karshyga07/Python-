{
 "cells": [
  {
   "cell_type": "code",
   "execution_count": 1,
   "metadata": {},
   "outputs": [
    {
     "name": "stdout",
     "output_type": "stream",
     "text": [
      "['.git', 'lab2_pp2', 'lab3', 'lab4', 'lab5', 'lab6']\n"
     ]
    }
   ],
   "source": [
    "import os \n",
    "\n",
    "path = r\"\\Users\\omega\\Desktop\\lab2\"\n",
    "all1 = list(os.listdir(path))\n",
    "print(all1)"
   ]
  },
  {
   "cell_type": "code",
   "execution_count": 5,
   "metadata": {},
   "outputs": [
    {
     "name": "stdout",
     "output_type": "stream",
     "text": [
      "Path exists\n",
      "Readable\n",
      "Writable\n",
      "Executable\n"
     ]
    }
   ],
   "source": [
    "import os\n",
    "def check_access(path):\n",
    "    if not os.path.exists(path):\n",
    "        print(\"Path does not exist\")\n",
    "        return\n",
    "    else:\n",
    "        print(\"Path exists\")\n",
    "        if os.access(path, os.R_OK):\n",
    "            print(\"Readable\")\n",
    "        else:\n",
    "            print(\"don't have read access\")\n",
    "        if os.access(path, os.W_OK):\n",
    "            print(\"Writable\")           \n",
    "        else:\n",
    "            print(\"don't have write access\")\n",
    "        if os.access(path, os.X_OK):\n",
    "            print(\"Executable\") \n",
    "        else:\n",
    "            print(\"don't have execute access\") \n",
    "        \n",
    "check_access(r\"\\Users\\omega\\Desktop\\lab2\")"
   ]
  },
  {
   "cell_type": "code",
   "execution_count": 7,
   "metadata": {},
   "outputs": [
    {
     "name": "stdout",
     "output_type": "stream",
     "text": [
      "Name of file:  lab2\n",
      "name of directory:  \\Users\\omega\\Desktop\n"
     ]
    }
   ],
   "source": [
    "import os\n",
    "path= r\"\\Users\\omega\\Desktop\\lab2\"\n",
    "print(\"Name of file: \", os.path.basename(path))\n",
    "print(\"name of directory: \", os.path.dirname(path))"
   ]
  },
  {
   "cell_type": "code",
   "execution_count": null,
   "metadata": {},
   "outputs": [
    {
     "name": "stdout",
     "output_type": "stream",
     "text": [
      "0\n"
     ]
    }
   ],
   "source": [
    "with open(r\"\\Users\\omega\\Desktop\\lab2\\file.txt\", \"r\") as file:\n",
    "    sum7 = len(file.readlines())\n",
    "print(sum7)"
   ]
  },
  {
   "cell_type": "code",
   "execution_count": 19,
   "metadata": {},
   "outputs": [],
   "source": [
    "def writesome(path):\n",
    "    with open(\"all.txt\", \"w\") as file:\n",
    "        text = \"\\n\"\n",
    "        for i in path:\n",
    "            text += str(i)+ ' '\n",
    "        file.write(text)\n",
    "        file.close()\n",
    "writesome([1231, 6454, \"jjddjfj\", \"jdfjdfj\"])"
   ]
  },
  {
   "cell_type": "code",
   "execution_count": 1,
   "metadata": {},
   "outputs": [],
   "source": [
    "for i in range(65,91):\n",
    "    open(f'{chr(i)}.txt', 'w').close()\n",
    "    "
   ]
  },
  {
   "cell_type": "code",
   "execution_count": 2,
   "metadata": {},
   "outputs": [],
   "source": [
    "with open(\"A.txt\", \"r\") as src, open(\"B.txt\", \"w\") as dest:\n",
    "    dest.write(src.read())"
   ]
  },
  {
   "cell_type": "code",
   "execution_count": 1,
   "metadata": {},
   "outputs": [
    {
     "name": "stdout",
     "output_type": "stream",
     "text": [
      "file C.txt deleted\n"
     ]
    }
   ],
   "source": [
    "import os\n",
    "def delete_file(filename):\n",
    "    if os.path.exists(filename):\n",
    "        os.remove(filename)\n",
    "        print(f'file {filename} deleted')\n",
    "    else:\n",
    "        print(f'file {filename} not found')\n",
    "a = input(\"Fille name: \")\n",
    "delete_file(a)\n"
   ]
  }
 ],
 "metadata": {
  "kernelspec": {
   "display_name": "Python 3",
   "language": "python",
   "name": "python3"
  },
  "language_info": {
   "codemirror_mode": {
    "name": "ipython",
    "version": 3
   },
   "file_extension": ".py",
   "mimetype": "text/x-python",
   "name": "python",
   "nbconvert_exporter": "python",
   "pygments_lexer": "ipython3",
   "version": "3.12.2"
  }
 },
 "nbformat": 4,
 "nbformat_minor": 2
}
