{
 "cells": [
  {
   "cell_type": "code",
   "execution_count": 10,
   "metadata": {},
   "outputs": [
    {
     "name": "stdout",
     "output_type": "stream",
     "text": [
      "Current date:  2025-02-11\n",
      "2025-02-06\n"
     ]
    }
   ],
   "source": [
    "from datetime import datetime, timedelta\n",
    "x = datetime.now()\n",
    "d = x - timedelta(days=5)\n",
    "print(\"Current date: \", x.strftime(\"%Y-%m-%d\"))\n",
    "\n",
    "print(d.strftime(\"%Y-%m-%d\"))\n"
   ]
  },
  {
   "cell_type": "code",
   "execution_count": null,
   "metadata": {},
   "outputs": [
    {
     "name": "stdout",
     "output_type": "stream",
     "text": [
      "Today:  2025-02-11\n",
      "Yesterday:  2025-02-10\n",
      "Tomorow:  2025-02-12\n"
     ]
    }
   ],
   "source": [
    "from datetime import datetime, timedelta\n",
    "x = datetime.now()\n",
    "y = x - timedelta(days=1)\n",
    "z = x + timedelta(days=1)\n",
    "print(\"Today: \", x.strftime(\"%Y-%m-%d\"))\n",
    "print(\"Yesterday: \", y.strftime(\"%Y-%m-%d\"))\n",
    "print(\"Tomorrow: \", z.strftime(\"%Y-%m-%d\"))"
   ]
  },
  {
   "cell_type": "code",
   "execution_count": 12,
   "metadata": {},
   "outputs": [
    {
     "name": "stdout",
     "output_type": "stream",
     "text": [
      "029006\n"
     ]
    }
   ],
   "source": [
    "from datetime import datetime\n",
    "x = datetime.now()\n",
    "print(x.strftime(\"%f\"))\n"
   ]
  },
  {
   "cell_type": "code",
   "execution_count": 19,
   "metadata": {},
   "outputs": [
    {
     "name": "stdout",
     "output_type": "stream",
     "text": [
      "432000\n"
     ]
    }
   ],
   "source": [
    "from datetime import datetime, timedelta\n",
    "x = datetime.now()\n",
    "y = x - timedelta(days=5)\n",
    "z = x - y\n",
    "print(int(z.total_seconds()))"
   ]
  }
 ],
 "metadata": {
  "kernelspec": {
   "display_name": "Python 3",
   "language": "python",
   "name": "python3"
  },
  "language_info": {
   "codemirror_mode": {
    "name": "ipython",
    "version": 3
   },
   "file_extension": ".py",
   "mimetype": "text/x-python",
   "name": "python",
   "nbconvert_exporter": "python",
   "pygments_lexer": "ipython3",
   "version": "3.12.2"
  }
 },
 "nbformat": 4,
 "nbformat_minor": 2
}
