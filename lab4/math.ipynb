{
 "cells": [
  {
   "cell_type": "code",
   "execution_count": 8,
   "metadata": {},
   "outputs": [
    {
     "name": "stdout",
     "output_type": "stream",
     "text": [
      "Output radian: 0.261799 \n"
     ]
    }
   ],
   "source": [
    "x = int(input(\"Input degree: \"))\n",
    "radian = x * 3.14159265359 / 180\n",
    "print(f\"Output radian: {radian:.6f} \")"
   ]
  },
  {
   "cell_type": "code",
   "execution_count": 10,
   "metadata": {},
   "outputs": [
    {
     "name": "stdout",
     "output_type": "stream",
     "text": [
      "Expected output: 27.50\n"
     ]
    }
   ],
   "source": [
    "h = input(\"Height: \")\n",
    "x = input(\"Base, first value: \")\n",
    "y = input(\"Base, second value: \")\n",
    "area = (int(x) + int(y)) * int(h) / 2\n",
    "print(f\"Expected output: {area:.2f}\")"
   ]
  },
  {
   "cell_type": "code",
   "execution_count": 20,
   "metadata": {},
   "outputs": [
    {
     "name": "stdout",
     "output_type": "stream",
     "text": [
      "The area of the polygon: 625\n"
     ]
    }
   ],
   "source": [
    "import math\n",
    "c = int(input(\"Input number of sides: \"))\n",
    "h = float(input(\"Input length of a side: \"))\n",
    "area = (c * h**2) / (4 * math.tan(math.pi / c))\n",
    "print(f\"The area of the polygon: {area:.0f}\")"
   ]
  },
  {
   "cell_type": "code",
   "execution_count": 21,
   "metadata": {},
   "outputs": [
    {
     "name": "stdout",
     "output_type": "stream",
     "text": [
      "Exepted Output: 30.0\n"
     ]
    }
   ],
   "source": [
    "import math\n",
    "x = int(input(\"Length of base: \"))\n",
    "y = int(input(\"Length of parallelogram: \"))\n",
    "area = x * y\n",
    "print(f\"Exepted Output: {area:.1f}\")"
   ]
  }
 ],
 "metadata": {
  "kernelspec": {
   "display_name": "Python 3",
   "language": "python",
   "name": "python3"
  },
  "language_info": {
   "codemirror_mode": {
    "name": "ipython",
    "version": 3
   },
   "file_extension": ".py",
   "mimetype": "text/x-python",
   "name": "python",
   "nbconvert_exporter": "python",
   "pygments_lexer": "ipython3",
   "version": "3.12.2"
  }
 },
 "nbformat": 4,
 "nbformat_minor": 2
}
