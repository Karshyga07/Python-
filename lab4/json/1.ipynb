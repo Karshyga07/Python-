{
 "cells": [
  {
   "cell_type": "code",
   "execution_count": 4,
   "metadata": {},
   "outputs": [
    {
     "name": "stdout",
     "output_type": "stream",
     "text": [
      "Interface status\n",
      "================================================================================\n",
      "DN                                                 Description           Speed    MTU  \n",
      "-------------------------------------------------- --------------------  ------  ------\n",
      "topology/pod-1/node-201/sys/phys-[eth1/33]                              inherit   9150\n",
      "topology/pod-1/node-201/sys/phys-[eth1/33]                              inherit   9150\n",
      "topology/pod-1/node-201/sys/phys-[eth1/33]                              inherit   9150\n"
     ]
    }
   ],
   "source": [
    "import json \n",
    "\n",
    "\n",
    "print(\"Interface status\")\n",
    "print(\"================================================================================\")\n",
    "print(\"DN                                                 Description           Speed    MTU  \")\n",
    "print(\"-------------------------------------------------- --------------------  ------  ------\")\n",
    "\n",
    "with open('simple-date.json') as file:\n",
    "    data = json.load(file)\n",
    "\n",
    "request_from_server = data[\"imdata\"][0][\"l1PhysIf\"][\"attributes\"][\"dn\"]\n",
    "speed = data[\"imdata\"][0][\"l1PhysIf\"][\"attributes\"][\"fecMode\"]\n",
    "mtu = data[\"imdata\"][0][\"l1PhysIf\"][\"attributes\"][\"mtu\"]\n",
    "print(request_from_server, \"                            \", speed,\" \", mtu )\n",
    "print(request_from_server, \"                            \", speed,\" \", mtu )\n",
    "print(request_from_server, \"                            \", speed,\" \", mtu )\n"
   ]
  },
  {
   "cell_type": "code",
   "execution_count": null,
   "metadata": {},
   "outputs": [],
   "source": [
    "import json\n",
    "\n",
    "with open('simple-date.json','r') as file:\n",
    "    data = json.load(file)\n",
    "    "
   ]
  },
  {
   "cell_type": "code",
   "execution_count": 14,
   "metadata": {},
   "outputs": [
    {
     "name": "stdout",
     "output_type": "stream",
     "text": [
      "30\n"
     ]
    }
   ],
   "source": [
    "import json \n",
    "\n",
    "json_string = '{\"name\": \"John\", \"age\": 30, \"city\": \"New York\"}'\n",
    "data = json.loads(json_string)\n",
    "print(data[\"age\"])"
   ]
  }
 ],
 "metadata": {
  "kernelspec": {
   "display_name": "Python 3",
   "language": "python",
   "name": "python3"
  },
  "language_info": {
   "codemirror_mode": {
    "name": "ipython",
    "version": 3
   },
   "file_extension": ".py",
   "mimetype": "text/x-python",
   "name": "python",
   "nbconvert_exporter": "python",
   "pygments_lexer": "ipython3",
   "version": "3.12.2"
  }
 },
 "nbformat": 4,
 "nbformat_minor": 2
}
