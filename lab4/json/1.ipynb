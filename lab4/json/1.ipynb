{
 "cells": [
  {
   "cell_type": "code",
   "execution_count": 7,
   "metadata": {},
   "outputs": [
    {
     "name": "stdout",
     "output_type": "stream",
     "text": [
      "Interface status\n",
      "================================================================================\n",
      "DN                                                 Description           Speed    MTU  \n",
      "--------------------------------------------------------------------------------\n",
      "Interface Status\n",
      "---\n",
      "DN                                                 Description     Speed    MTU   \n",
      "--- --- --- ---\n",
      "topology/pod-1/node-201/sys/phys-[eth1/33]                         inherit  9150  \n",
      "topology/pod-1/node-201/sys/phys-[eth1/34]                         inherit  9150  \n",
      "topology/pod-1/node-201/sys/phys-[eth1/35]                         inherit  9150  \n",
      "topology/pod-1/node-201/sys/phys-[eth1/36]                         inherit  9150  \n",
      "topology/pod-1/node-201/sys/phys-[eth1/1]                          inherit  9150  \n",
      "topology/pod-1/node-201/sys/phys-[eth1/2]                          inherit  9150  \n",
      "topology/pod-1/node-201/sys/phys-[eth1/3]                          inherit  9150  \n",
      "topology/pod-1/node-201/sys/phys-[eth1/4]                          inherit  9150  \n",
      "topology/pod-1/node-201/sys/phys-[eth1/5]                          inherit  9150  \n",
      "topology/pod-1/node-201/sys/phys-[eth1/6]                          inherit  9150  \n",
      "topology/pod-1/node-201/sys/phys-[eth1/7]                          inherit  9150  \n",
      "topology/pod-1/node-201/sys/phys-[eth1/8]                          inherit  9150  \n",
      "topology/pod-1/node-201/sys/phys-[eth1/9]                          inherit  9150  \n",
      "topology/pod-1/node-201/sys/phys-[eth1/10]                         inherit  9150  \n",
      "topology/pod-1/node-201/sys/phys-[eth1/11]                         inherit  9150  \n",
      "topology/pod-1/node-201/sys/phys-[eth1/12]                         inherit  9150  \n",
      "topology/pod-1/node-201/sys/phys-[eth1/13]                         inherit  9150  \n",
      "topology/pod-1/node-201/sys/phys-[eth1/14]                         inherit  9150  \n"
     ]
    }
   ],
   "source": [
    "import json\n",
    "\n",
    "print(\"Interface status\")\n",
    "print(\"================================================================================\")\n",
    "print(\"DN                                                 Description           Speed    MTU  \")\n",
    "print(\"--------------------------------------------------------------------------------\")\n",
    "\n",
    "with open('simple-date.json','r') as file:\n",
    "    data = json.load(file)\n",
    "\n",
    "interfaces = data.get('imdata', [])\n",
    "\n",
    "print(\"Interface Status\")\n",
    "print(\"---\")\n",
    "print(\"{:<50} {:<15} {:<8} {:<6}\".format(\"DN\", \"Description\", \"Speed\", \"MTU\"))\n",
    "print(\"--- --- --- ---\")\n",
    "\n",
    "for interface in interfaces:\n",
    "    attr = interface.get('l1PhysIf', {}).get('attributes', {})\n",
    "    dn = attr.get('dn', '')\n",
    "    descr = attr.get('descr', 'inherit')\n",
    "    speed = attr.get('speed', '')\n",
    "    mtu = attr.get('mtu', '')\n",
    "    \n",
    "    print(\"{:<50} {:<15} {:<8} {:<6}\".format(dn, descr, speed, mtu))\n"
   ]
  },
  {
   "cell_type": "code",
   "execution_count": 6,
   "metadata": {},
   "outputs": [
    {
     "name": "stdout",
     "output_type": "stream",
     "text": [
      "Interface status\n",
      "================================================================================\n",
      "DN                                                 Description           Speed    MTU  \n",
      "--------------------------------------------------------------------------------\n"
     ]
    },
    {
     "ename": "FileNotFoundError",
     "evalue": "[Errno 2] No such file or directory: 'json/simple-date.json'",
     "output_type": "error",
     "traceback": [
      "\u001b[1;31m---------------------------------------------------------------------------\u001b[0m",
      "\u001b[1;31mFileNotFoundError\u001b[0m                         Traceback (most recent call last)",
      "Cell \u001b[1;32mIn[6], line 8\u001b[0m\n\u001b[0;32m      5\u001b[0m \u001b[38;5;28mprint\u001b[39m(\u001b[38;5;124m\"\u001b[39m\u001b[38;5;124mDN                                                 Description           Speed    MTU  \u001b[39m\u001b[38;5;124m\"\u001b[39m)\n\u001b[0;32m      6\u001b[0m \u001b[38;5;28mprint\u001b[39m(\u001b[38;5;124m\"\u001b[39m\u001b[38;5;124m--------------------------------------------------------------------------------\u001b[39m\u001b[38;5;124m\"\u001b[39m)\n\u001b[1;32m----> 8\u001b[0m \u001b[38;5;28;01mwith\u001b[39;00m \u001b[38;5;28;43mopen\u001b[39;49m\u001b[43m(\u001b[49m\u001b[38;5;124;43m'\u001b[39;49m\u001b[38;5;124;43mjson/simple-date.json\u001b[39;49m\u001b[38;5;124;43m'\u001b[39;49m\u001b[43m)\u001b[49m \u001b[38;5;28;01mas\u001b[39;00m f:\n\u001b[0;32m      9\u001b[0m     data \u001b[38;5;241m=\u001b[39m json\u001b[38;5;241m.\u001b[39mload(f)\n\u001b[0;32m     11\u001b[0m request_from_server \u001b[38;5;241m=\u001b[39m data[\u001b[38;5;124m\"\u001b[39m\u001b[38;5;124mimdata\u001b[39m\u001b[38;5;124m\"\u001b[39m][\u001b[38;5;241m0\u001b[39m][\u001b[38;5;124m\"\u001b[39m\u001b[38;5;124ml1PhysIf\u001b[39m\u001b[38;5;124m\"\u001b[39m][\u001b[38;5;124m\"\u001b[39m\u001b[38;5;124mattributes\u001b[39m\u001b[38;5;124m\"\u001b[39m][\u001b[38;5;124m\"\u001b[39m\u001b[38;5;124mdn\u001b[39m\u001b[38;5;124m\"\u001b[39m]\n",
      "File \u001b[1;32m~\\AppData\\Roaming\\Python\\Python312\\site-packages\\IPython\\core\\interactiveshell.py:324\u001b[0m, in \u001b[0;36m_modified_open\u001b[1;34m(file, *args, **kwargs)\u001b[0m\n\u001b[0;32m    317\u001b[0m \u001b[38;5;28;01mif\u001b[39;00m file \u001b[38;5;129;01min\u001b[39;00m {\u001b[38;5;241m0\u001b[39m, \u001b[38;5;241m1\u001b[39m, \u001b[38;5;241m2\u001b[39m}:\n\u001b[0;32m    318\u001b[0m     \u001b[38;5;28;01mraise\u001b[39;00m \u001b[38;5;167;01mValueError\u001b[39;00m(\n\u001b[0;32m    319\u001b[0m         \u001b[38;5;124mf\u001b[39m\u001b[38;5;124m\"\u001b[39m\u001b[38;5;124mIPython won\u001b[39m\u001b[38;5;124m'\u001b[39m\u001b[38;5;124mt let you open fd=\u001b[39m\u001b[38;5;132;01m{\u001b[39;00mfile\u001b[38;5;132;01m}\u001b[39;00m\u001b[38;5;124m by default \u001b[39m\u001b[38;5;124m\"\u001b[39m\n\u001b[0;32m    320\u001b[0m         \u001b[38;5;124m\"\u001b[39m\u001b[38;5;124mas it is likely to crash IPython. If you know what you are doing, \u001b[39m\u001b[38;5;124m\"\u001b[39m\n\u001b[0;32m    321\u001b[0m         \u001b[38;5;124m\"\u001b[39m\u001b[38;5;124myou can use builtins\u001b[39m\u001b[38;5;124m'\u001b[39m\u001b[38;5;124m open.\u001b[39m\u001b[38;5;124m\"\u001b[39m\n\u001b[0;32m    322\u001b[0m     )\n\u001b[1;32m--> 324\u001b[0m \u001b[38;5;28;01mreturn\u001b[39;00m \u001b[43mio_open\u001b[49m\u001b[43m(\u001b[49m\u001b[43mfile\u001b[49m\u001b[43m,\u001b[49m\u001b[43m \u001b[49m\u001b[38;5;241;43m*\u001b[39;49m\u001b[43margs\u001b[49m\u001b[43m,\u001b[49m\u001b[43m \u001b[49m\u001b[38;5;241;43m*\u001b[39;49m\u001b[38;5;241;43m*\u001b[39;49m\u001b[43mkwargs\u001b[49m\u001b[43m)\u001b[49m\n",
      "\u001b[1;31mFileNotFoundError\u001b[0m: [Errno 2] No such file or directory: 'json/simple-date.json'"
     ]
    }
   ],
   "source": [
    "import json\n",
    "\n",
    "print(\"Interface status\")\n",
    "print(\"================================================================================\")\n",
    "print(\"DN                                                 Description           Speed    MTU  \")\n",
    "print(\"--------------------------------------------------------------------------------\")\n",
    "\n",
    "with open('json/simple-date.json') as f:\n",
    "    data = json.load(f)\n",
    "    \n",
    "request_from_server = data[\"imdata\"][0][\"l1PhysIf\"][\"attributes\"][\"dn\"]\n",
    "speed = data[\"imdata\"][0][\"l1PhysIf\"][\"attributes\"][\"speed\"]\n",
    "mtu = data[\"imdata\"][0][\"l1PhysIf\"][\"attributes\"][\"mtu\"]\n",
    "print(request_from_server, \"                            \", speed,\" \", mtu )\n",
    "print(request_from_server, \"                            \", speed,\" \", mtu )\n",
    "print(request_from_server, \"                            \", speed,\" \", mtu )"
   ]
  }
 ],
 "metadata": {
  "kernelspec": {
   "display_name": "Python 3",
   "language": "python",
   "name": "python3"
  },
  "language_info": {
   "codemirror_mode": {
    "name": "ipython",
    "version": 3
   },
   "file_extension": ".py",
   "mimetype": "text/x-python",
   "name": "python",
   "nbconvert_exporter": "python",
   "pygments_lexer": "ipython3",
   "version": "3.12.2"
  }
 },
 "nbformat": 4,
 "nbformat_minor": 2
}
