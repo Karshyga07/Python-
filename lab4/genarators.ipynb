{
 "cells": [
  {
   "cell_type": "code",
   "execution_count": 8,
   "metadata": {},
   "outputs": [
    {
     "name": "stdout",
     "output_type": "stream",
     "text": [
      "0\n",
      "1\n",
      "4\n",
      "9\n",
      "16\n"
     ]
    }
   ],
   "source": [
    "def my_generators(N):\n",
    "    for i in range(N):\n",
    "        yield i\n",
    "N = int(input(\"N: \"))\n",
    "gen = my_generators(N)\n",
    "for num in gen:\n",
    "    print(num**2)"
   ]
  },
  {
   "cell_type": "code",
   "execution_count": 9,
   "metadata": {},
   "outputs": [
    {
     "name": "stdout",
     "output_type": "stream",
     "text": [
      "0\n",
      "2\n",
      "4\n",
      "6\n",
      "8\n",
      "10\n",
      "12\n",
      "14\n"
     ]
    }
   ],
   "source": [
    "def my_generators(n):\n",
    "    for i in range(n):\n",
    "        yield i\n",
    "n = int(input(\"n: \"))\n",
    "gen = my_generators(n)\n",
    "for num in gen:\n",
    "    if num % 2 == 0:\n",
    "        print(num)"
   ]
  },
  {
   "cell_type": "code",
   "execution_count": 11,
   "metadata": {},
   "outputs": [
    {
     "name": "stdout",
     "output_type": "stream",
     "text": [
      "0 12 24 36 48 "
     ]
    }
   ],
   "source": [
    "def my_generators(n):\n",
    "    for i in range(n):\n",
    "        yield i\n",
    "n = int(input(\"n: \"))\n",
    "gen = my_generators(n)\n",
    "for num in gen:\n",
    "    if num % 12 == 0:\n",
    "        print(num, end=\" \")"
   ]
  },
  {
   "cell_type": "code",
   "execution_count": 13,
   "metadata": {},
   "outputs": [
    {
     "name": "stdout",
     "output_type": "stream",
     "text": [
      "25 36 49 64 "
     ]
    }
   ],
   "source": [
    "def my_generators(n,m):\n",
    "    for i in range(n,m):\n",
    "        yield i\n",
    "n = int(input(\"n: \"))\n",
    "m = int(input(\"m: \"))\n",
    "gen = my_generators(n,m)\n",
    "for num in gen:\n",
    "    print(num**2, end=\" \")"
   ]
  },
  {
   "cell_type": "code",
   "execution_count": 15,
   "metadata": {},
   "outputs": [
    {
     "name": "stdout",
     "output_type": "stream",
     "text": [
      "[4, 3, 2, 1, 0]\n"
     ]
    }
   ],
   "source": [
    "def my_generators(n):\n",
    "    for i in range(n):\n",
    "        yield i\n",
    "n = int(input(\"n: \"))\n",
    "a = list(my_generators(n))\n",
    "print(a[::-1])"
   ]
  }
 ],
 "metadata": {
  "kernelspec": {
   "display_name": "Python 3",
   "language": "python",
   "name": "python3"
  },
  "language_info": {
   "codemirror_mode": {
    "name": "ipython",
    "version": 3
   },
   "file_extension": ".py",
   "mimetype": "text/x-python",
   "name": "python",
   "nbconvert_exporter": "python",
   "pygments_lexer": "ipython3",
   "version": "3.12.2"
  }
 },
 "nbformat": 4,
 "nbformat_minor": 2
}
