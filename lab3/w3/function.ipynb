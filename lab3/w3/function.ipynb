{
 "cells": [
  {
   "cell_type": "code",
   "execution_count": 3,
   "metadata": {},
   "outputs": [
    {
     "name": "stdout",
     "output_type": "stream",
     "text": [
      "100 equal to 2834.95\n"
     ]
    }
   ],
   "source": [
    "def grams_ounes(grams):\n",
    "    ounes = grams * 28.3495231\n",
    "    return ounes\n",
    "grams = 100\n",
    "ounes = grams_ounes(grams)\n",
    "print(f\"{grams} equal to {ounes:.2f}\")"
   ]
  },
  {
   "cell_type": "code",
   "execution_count": 13,
   "metadata": {},
   "outputs": [
    {
     "name": "stdout",
     "output_type": "stream",
     "text": [
      "180 equal to 82.22\n"
     ]
    }
   ],
   "source": [
    "def temperatura(f):\n",
    "    c = (5 / 9) * (f - 32)\n",
    "    return c\n",
    "f = 180\n",
    "c = temperatura(f)\n",
    "print(f\"{f} equal to {c:.2f}\")\n",
    "    "
   ]
  },
  {
   "cell_type": "code",
   "execution_count": 30,
   "metadata": {},
   "outputs": [
    {
     "name": "stdout",
     "output_type": "stream",
     "text": [
      "Error\n"
     ]
    }
   ],
   "source": [
    "def solve(numhead,numlegs):\n",
    "    if (numlegs > numhead and numlegs > 0 and numhead > 0):\n",
    "        chicken = (2 * numhead) - (numlegs/2)\n",
    "        print(f\"Chicken = {int(chicken)}\")\n",
    "        rabbits = (numlegs/2) - numhead\n",
    "        print(f\"Rabbits = {int(rabbits)}\")\n",
    "numlegs = 94\n",
    "numhead = 35\n",
    "if(numlegs < numhead):\n",
    "    print(\"Error\")\n",
    "if(numlegs == 0 or numhead == 0):\n",
    "    print(\"Error\")\n",
    "solve(numhead,numlegs)"
   ]
  },
  {
   "cell_type": "code",
   "execution_count": 46,
   "metadata": {},
   "outputs": [
    {
     "name": "stdout",
     "output_type": "stream",
     "text": [
      "[5, 13, 15, 23]\n"
     ]
    }
   ],
   "source": [
    "def is_prime(n):\n",
    "    if n < 2:\n",
    "        return False\n",
    "    for i in range(2, int(n ** 0.5)+1):\n",
    "        if n % i == 0:\n",
    "            return False\n",
    "        return True\n",
    "    \n",
    "number_list = [3, 5, 13, 10, 15, 23, 26]\n",
    "prime_num = list(filter(is_prime,number_list))\n",
    "print(prime_num)"
   ]
  },
  {
   "cell_type": "code",
   "execution_count": 54,
   "metadata": {},
   "outputs": [
    {
     "name": "stdout",
     "output_type": "stream",
     "text": [
      "('a', 'b', 'c')\n",
      "('a', 'c', 'b')\n",
      "('b', 'a', 'c')\n",
      "('b', 'c', 'a')\n",
      "('c', 'a', 'b')\n",
      "('c', 'b', 'a')\n"
     ]
    }
   ],
   "source": [
    "from itertools import permutations\n",
    "def get_permutation(string):\n",
    "    for i in list(permutations(string)):\n",
    "        print(i)\n",
    "perm = \"abc\"\n",
    "get_permutation(perm)"
   ]
  },
  {
   "cell_type": "code",
   "execution_count": 60,
   "metadata": {},
   "outputs": [
    {
     "name": "stdout",
     "output_type": "stream",
     "text": [
      "['ready', 'are', 'We']\n"
     ]
    }
   ],
   "source": [
    "def word_reversed(string):\n",
    "    n = string.split(\" \")\n",
    "    n.reverse()\n",
    "    print(n)\n",
    "string = \"We are ready\"\n",
    "word_reversed(string)"
   ]
  },
  {
   "cell_type": "code",
   "execution_count": 69,
   "metadata": {},
   "outputs": [
    {
     "name": "stdout",
     "output_type": "stream",
     "text": [
      "True\n",
      "False\n",
      "False\n"
     ]
    }
   ],
   "source": [
    "def has_33(nums):\n",
    "    for i in range(len(nums) - 1):\n",
    "        while(nums[i] == nums[i+1]):\n",
    "            return True\n",
    "    return False\n",
    "print(has_33([1,3,3]))\n",
    "print(has_33([1,3,1,3]))\n",
    "print(has_33([3,1,3]))"
   ]
  },
  {
   "cell_type": "code",
   "execution_count": 80,
   "metadata": {},
   "outputs": [
    {
     "name": "stdout",
     "output_type": "stream",
     "text": [
      "True\n",
      "True\n",
      "False\n"
     ]
    }
   ],
   "source": [
    "def spy_game(nums):\n",
    "    a = 0\n",
    "    arr = []\n",
    "    for i in range(len(nums)):\n",
    "        if nums[i]==0:\n",
    "            a = i\n",
    "            arr.append(nums[i])\n",
    "    for i in range(a+1, len(nums)):\n",
    "        if nums[i] == 0:\n",
    "            a = i\n",
    "            arr.append(nums[i])\n",
    "    for i in range(a+1, len(nums)):\n",
    "        if nums[i] == 7:\n",
    "            a = i\n",
    "            arr.append(nums[i])\n",
    "    if len(arr) == 3:\n",
    "        if arr[0] == 0 and arr[1] == 0 and arr[2] == 7:\n",
    "            return True\n",
    "    else:\n",
    "        return False\n",
    "\n",
    "print(spy_game([1,2,4,0,0,7,5]))\n",
    "print(spy_game([1,0,2,4,0,5,7]))\n",
    "print(spy_game([1,7,2,0,4,5,0]))"
   ]
  },
  {
   "cell_type": "code",
   "execution_count": 83,
   "metadata": {},
   "outputs": [
    {
     "name": "stdout",
     "output_type": "stream",
     "text": [
      "267\n"
     ]
    }
   ],
   "source": [
    "def value(n):\n",
    "    return int((4/3) * 3.14 * (n ** 3))\n",
    "radius = 4\n",
    "result = value(radius)\n",
    "print(result)"
   ]
  },
  {
   "cell_type": "code",
   "execution_count": 87,
   "metadata": {},
   "outputs": [
    {
     "name": "stdout",
     "output_type": "stream",
     "text": [
      "[1, 2, 3, 4, 5]\n"
     ]
    }
   ],
   "source": [
    "def unique(nums):\n",
    "    arr = []\n",
    "    for num in nums:\n",
    "        if num not in arr:\n",
    "            arr.append(num)\n",
    "    return arr\n",
    "numbers = [1,2,3,1,4,5,2,5]\n",
    "un_num = unique(numbers)\n",
    "print(un_num)"
   ]
  },
  {
   "cell_type": "code",
   "execution_count": 88,
   "metadata": {},
   "outputs": [
    {
     "name": "stdout",
     "output_type": "stream",
     "text": [
      "1\n",
      "2\n",
      "3\n"
     ]
    }
   ],
   "source": [
    "nums = [1,2,3]\n",
    "for num in nums:\n",
    "    print(num)"
   ]
  },
  {
   "cell_type": "code",
   "execution_count": null,
   "metadata": {},
   "outputs": [
    {
     "name": "stdout",
     "output_type": "stream",
     "text": [
      "False\n"
     ]
    }
   ],
   "source": [
    "def polindrom(string):\n",
    "    for i in range(len(string)):\n",
    "        if(string[i]==string[i-1]):\n",
    "            return True\n",
    "        return False\n",
    "string = \"madam\"\n",
    "pol = polindrom(string)\n",
    "print(pol)"
   ]
  },
  {
   "cell_type": "code",
   "execution_count": 92,
   "metadata": {},
   "outputs": [
    {
     "name": "stdout",
     "output_type": "stream",
     "text": [
      "****\n",
      "*********\n",
      "*******\n"
     ]
    }
   ],
   "source": [
    "def histogram(nums):\n",
    "    for num in nums:\n",
    "        print(\"*\" * num)\n",
    "san = [4,9,7]\n",
    "result = histogram(san)          "
   ]
  },
  {
   "cell_type": "code",
   "execution_count": null,
   "metadata": {},
   "outputs": [
    {
     "name": "stdout",
     "output_type": "stream",
     "text": [
      "Hello! What is your name?\n",
      "\n",
      "Well, karshyga, I am thinking of a number between 1 and 20.\n",
      "Take a guess.\n",
      "Your guess is too low.\n",
      "Take a guess.\n",
      "Your guess is too low.\n",
      "Take a guess.\n",
      "Your guess is too high.\n",
      "Take a guess.\n",
      "Your guess is too high.\n",
      "Take a guess.\n"
     ]
    }
   ],
   "source": [
    "import random\n",
    "\n",
    "def guess_the_number():\n",
    "    print(\"Hello! What is your name?\")\n",
    "    name = input()\n",
    "\n",
    "    print(f\"\\nWell, {name}, I am thinking of a number between 1 and 20.\")\n",
    "\n",
    "    secret_number = random.randint(1, 20)\n",
    "    attempts = 0\n",
    "\n",
    "    while True:\n",
    "        print(\"Take a guess.\")\n",
    "        try:\n",
    "            guess = int(input())\n",
    "            attempts += 1\n",
    "\n",
    "            if guess < secret_number:\n",
    "                print(\"Your guess is too low.\")\n",
    "            elif guess > secret_number:\n",
    "                print(\"Your guess is too high.\")\n",
    "            else:\n",
    "                print(f\"Good job, {name}! You guessed my number in {attempts} guesses!\")\n",
    "                break\n",
    "        except ValueError:\n",
    "            print(\"Please enter a valid number between 1 and 20.\")\n",
    "\n",
    "guess_the_number()"
   ]
  }
 ],
 "metadata": {
  "kernelspec": {
   "display_name": "Python 3",
   "language": "python",
   "name": "python3"
  },
  "language_info": {
   "codemirror_mode": {
    "name": "ipython",
    "version": 3
   },
   "file_extension": ".py",
   "mimetype": "text/x-python",
   "name": "python",
   "nbconvert_exporter": "python",
   "pygments_lexer": "ipython3",
   "version": "3.12.2"
  }
 },
 "nbformat": 4,
 "nbformat_minor": 2
}
