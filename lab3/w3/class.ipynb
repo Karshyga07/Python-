{
 "cells": [
  {
   "cell_type": "code",
   "execution_count": 1,
   "metadata": {},
   "outputs": [
    {
     "name": "stdout",
     "output_type": "stream",
     "text": [
      "ЫКВАПРИОТЛНАН\n"
     ]
    }
   ],
   "source": [
    "class go:\n",
    "    def __init__(self):\n",
    "        self.text = \"\"\n",
    "    def getString(self):\n",
    "        self.text = input(\"Enter a string: \")\n",
    "    def printString(self):\n",
    "        print(self.text.upper())\n",
    "o = go()\n",
    "o.getString()\n",
    "o.printString()      "
   ]
  },
  {
   "cell_type": "code",
   "execution_count": 10,
   "metadata": {},
   "outputs": [
    {
     "name": "stdout",
     "output_type": "stream",
     "text": [
      "25\n"
     ]
    }
   ],
   "source": [
    "class shape:\n",
    "    def area(self):\n",
    "        return 0\n",
    "class square:\n",
    "    def __init__(self,length):\n",
    "        self.length = length \n",
    "    def area(self):\n",
    "        return self.length * self.length\n",
    "o = square(5)\n",
    "print(o.area())\n",
    "                        "
   ]
  },
  {
   "cell_type": "code",
   "execution_count": 12,
   "metadata": {},
   "outputs": [
    {
     "name": "stdout",
     "output_type": "stream",
     "text": [
      "30\n"
     ]
    }
   ],
   "source": [
    "class shape:\n",
    "    def area(self):\n",
    "        return 0\n",
    "class rectangle:\n",
    "    def __init__(self,length,width):\n",
    "        self.length = length\n",
    "        self.width = width\n",
    "    def area(self):\n",
    "        return self.length * self.width\n",
    "o = rectangle(5,6)\n",
    "print(o.area())"
   ]
  },
  {
   "cell_type": "code",
   "execution_count": 18,
   "metadata": {},
   "outputs": [
    {
     "name": "stdout",
     "output_type": "stream",
     "text": [
      "(2.5, 4.5)\n",
      "4.242640687119285\n"
     ]
    }
   ],
   "source": [
    "class shape:\n",
    "    def coor(self):\n",
    "        return 0\n",
    "class move:\n",
    "    def __init__(self,x1,y1,x2,y2):\n",
    "        self.x1 = x1\n",
    "        self.y1 = y1\n",
    "        self.x2 = x2\n",
    "        self.y2 = y2\n",
    "    def area(self):\n",
    "        return (self.x1 + self.x2)/2, (self.y1 + self.y2)/2\n",
    "class dist:\n",
    "    def __init__(self,move_obj):\n",
    "        self.x1 = move_obj.x1\n",
    "        self.x2 = move_obj.x2\n",
    "        self.y1 = move_obj.y1\n",
    "        self.y2 = move_obj.y2\n",
    "    def area(self):\n",
    "        return (((self.x1-self.x2)**2)+((self.y1-self.y2)**2))**0.5\n",
    "o = move(4,6,1,3)\n",
    "s = dist(o)\n",
    "print(o.area())\n",
    "print(s.area())\n",
    "\n",
    "        "
   ]
  },
  {
   "cell_type": "code",
   "execution_count": 1,
   "metadata": {},
   "outputs": [
    {
     "name": "stdout",
     "output_type": "stream",
     "text": [
      "Я Каршыга 1000\n",
      "Пополнено 500. Новый: 1500\n",
      "Сумма должна быть больше 0!\n",
      "Снято 300. Новый: 1200\n",
      "Ошибка: недостаточно средств! Доступно только 1200\n",
      "Сумма должен быть < 0\n",
      "Я Каршыга 1200\n"
     ]
    }
   ],
   "source": [
    "class BankAccount:\n",
    "    def __init__(self, owner, balance=0):\n",
    "        self.owner = owner\n",
    "        self.balance = balance \n",
    "\n",
    "    def deposit(self, amount):\n",
    "        if amount > 0:\n",
    "            self.balance += amount\n",
    "            print(f\"Пополнено {amount}. Новый: {self.balance}\")\n",
    "        else:\n",
    "            print(\"Сумма должна быть больше 0!\")\n",
    "\n",
    "    def withdraw(self, amount):\n",
    "        if amount > self.balance:\n",
    "            print(f\"Ошибка: недостаточно средств! Доступно только {self.balance}\")\n",
    "        elif amount <= 0:\n",
    "            print(\"Сумма должен быть < 0\")\n",
    "        else:\n",
    "            self.balance -= amount\n",
    "            print(f\"Снято {amount}. Новый: {self.balance}\")\n",
    "\n",
    "    def __str__(self):\n",
    "        return f\"Я {self.owner} {self.balance}\"\n",
    "account = BankAccount(\"Каршыга\", 1000)\n",
    "print(account)  \n",
    "account.deposit(500) \n",
    "account.deposit(-200) \n",
    "\n",
    "account.withdraw(300)   \n",
    "account.withdraw(2000) \n",
    "account.withdraw(-100)\n",
    "\n",
    "\n",
    "print(account)"
   ]
  },
  {
   "cell_type": "code",
   "execution_count": 6,
   "metadata": {},
   "outputs": [
    {
     "name": "stdout",
     "output_type": "stream",
     "text": [
      "[23, 24, 13, 3, 44, 32, 95, 41]\n"
     ]
    }
   ],
   "source": [
    "from math import sqrt\n",
    "def prime(n):\n",
    "    if n < 2:\n",
    "        return False\n",
    "    for i in range(2, int(sqrt(n) + 1)):\n",
    "        n % i != 0\n",
    "        return True\n",
    "num = [23,24,13,3,44,32,95,41]\n",
    "prime_num = list(filter(lambda x: prime, num))\n",
    "print(prime_num)"
   ]
  }
 ],
 "metadata": {
  "kernelspec": {
   "display_name": "Python 3",
   "language": "python",
   "name": "python3"
  },
  "language_info": {
   "codemirror_mode": {
    "name": "ipython",
    "version": 3
   },
   "file_extension": ".py",
   "mimetype": "text/x-python",
   "name": "python",
   "nbconvert_exporter": "python",
   "pygments_lexer": "ipython3",
   "version": "3.12.2"
  }
 },
 "nbformat": 4,
 "nbformat_minor": 2
}
