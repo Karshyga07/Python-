{
 "cells": [
  {
   "cell_type": "code",
   "execution_count": null,
   "metadata": {},
   "outputs": [],
   "source": [
    "class go:\n",
    "    def __init__(self):\n",
    "        self.text = \"\"\n",
    "    def getString(self):\n",
    "        self.text = input(\"Enter a string: \")\n",
    "    def printString(self):\n",
    "        print(self.text.upper())\n",
    "o = go()\n",
    "o.getString()\n",
    "o.printString()      "
   ]
  }
 ],
 "metadata": {
  "kernelspec": {
   "display_name": "Python 3",
   "language": "python",
   "name": "python3"
  },
  "language_info": {
   "codemirror_mode": {
    "name": "ipython",
    "version": 3
   },
   "file_extension": ".py",
   "mimetype": "text/x-python",
   "name": "python",
   "nbconvert_exporter": "python",
   "pygments_lexer": "ipython3",
   "version": "3.12.2"
  }
 },
 "nbformat": 4,
 "nbformat_minor": 2
}
