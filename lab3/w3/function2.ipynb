{
 "cells": [
  {
   "cell_type": "code",
   "execution_count": 6,
   "metadata": {},
   "outputs": [
    {
     "name": "stdout",
     "output_type": "stream",
     "text": [
      "True\n"
     ]
    }
   ],
   "source": [
    "def func(movie):\n",
    "    if movie[\"imbd\"] > 5.5:\n",
    "        return True\n",
    "    return False \n",
    "movie ={\n",
    "    \"name\": \"The Choice\",\n",
    "    \"imbd\": 6.5,\n",
    "    \"category\": \"Romance\" \n",
    "    }\n",
    "\n",
    "result = func(movie)\n",
    "print(result)   \n",
    "\n",
    "\n",
    "    "
   ]
  },
  {
   "cell_type": "code",
   "execution_count": 16,
   "metadata": {},
   "outputs": [
    {
     "name": "stdout",
     "output_type": "stream",
     "text": [
      "IMBD score above 5.5: {'name': 'What is the name', 'imdb': 9.2, 'category': 'Suspense'}\n",
      "True\n"
     ]
    }
   ],
   "source": [
    "def func(movies):\n",
    "    for movie in movies:\n",
    "        if movie[\"imdb\"] > 5.5:\n",
    "            print(f\"IMBD score above 5.5: {movie}\")\n",
    "            return True\n",
    "    return False\n",
    "movies = [\n",
    "    {\n",
    "        \"name\": \"What is the name\",\n",
    "        \"imdb\": 9.2,\n",
    "        \"category\": \"Suspense\"\n",
    "    },\n",
    "    {\n",
    "        \"name\": \"Exam\",\n",
    "        \"imdb\": 4.2,\n",
    "        \"category\": \"Thriller\"\n",
    "    },\n",
    "    {\n",
    "        \"name\": \"We Two\",\n",
    "        \"imdb\": 7.2,\n",
    "        \"category\": \"Romance\"\n",
    "    }\n",
    "]\n",
    "\n",
    "result = func(movies)\n",
    "print(result)"
   ]
  },
  {
   "cell_type": "code",
   "execution_count": 20,
   "metadata": {},
   "outputs": [
    {
     "name": "stdout",
     "output_type": "stream",
     "text": [
      "Category movie: {'name': 'We Two', 'imdb': 7.2, 'category': 'Romance'}\n",
      "True\n"
     ]
    }
   ],
   "source": [
    "def func(movies):\n",
    "    for movie in movies:\n",
    "        if movie[\"category\"]==\"Romance\":\n",
    "            print(f\"Category movie: {movie}\")\n",
    "            return True\n",
    "    return False\n",
    "movies = [\n",
    "    {\n",
    "        \"name\": \"We Two\",\n",
    "        \"imdb\": 7.2,\n",
    "        \"category\": \"Romance\"\n",
    "    },\n",
    "    {\n",
    "        \"name\": \"Exam\",\n",
    "        \"imdb\": 4.2,\n",
    "        \"category\": \"Thriller\"\n",
    "    }\n",
    "]\n",
    "result = func(movies)\n",
    "print(result)"
   ]
  },
  {
   "cell_type": "code",
   "execution_count": 1,
   "metadata": {},
   "outputs": [],
   "source": [
    "import nest_asyncio\n",
    "nest_asyncio.apply()"
   ]
  },
  {
   "cell_type": "code",
   "execution_count": null,
   "metadata": {},
   "outputs": [],
   "source": [
    "movies =  [\n",
    "    {\"name\": \"What is the name\", \n",
    "     \"imdb\": 9.2, \n",
    "     \"category\": \"Suspense\"\n",
    "    },\n",
    "    {\"name\": \"Detective\", \n",
    "     \"imdb\": 7.0, \n",
    "     \"category\": \"Suspense\"\n",
    "    },\n",
    "    {\"name\": \"Exam\", \n",
    "     \"imdb\": 4.2, \n",
    "     \"category\": \"Thriller\"\n",
    "    },\n",
    "    {\"name\": \"We Two\", \n",
    "     \"imdb\": 7.2, \n",
    "     \"category\": \"Romance\"\n",
    "    }\n",
    "]\n",
    "def func(movies, category_name):\n",
    "    cat_movies = [movie[\"imdb\"] for movie in movies if movie[\"category\"]== category_name]\n",
    "    return sum(cat_movies)/len(cat_movies) \n",
    "c = input(\"Category:\")\n",
    "print(func(movies,c))"
   ]
  }
 ],
 "metadata": {
  "kernelspec": {
   "display_name": "Python 3",
   "language": "python",
   "name": "python3"
  },
  "language_info": {
   "codemirror_mode": {
    "name": "ipython",
    "version": 3
   },
   "file_extension": ".py",
   "mimetype": "text/x-python",
   "name": "python",
   "nbconvert_exporter": "python",
   "pygments_lexer": "ipython3",
   "version": "3.12.2"
  }
 },
 "nbformat": 4,
 "nbformat_minor": 2
}
